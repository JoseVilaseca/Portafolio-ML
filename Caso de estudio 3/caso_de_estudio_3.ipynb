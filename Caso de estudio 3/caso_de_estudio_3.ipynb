{
 "cells": [
  {
   "cell_type": "markdown",
   "metadata": {},
   "source": [
    "# ESTUDIO DE CASO: PREDICCIÓN DE ENFERMEDAD DEL CORAZÓN"
   ]
  },
  {
   "cell_type": "markdown",
   "metadata": {},
   "source": [
    "1- Demostrar conocimiento organizacional o de contexto"
   ]
  },
  {
   "cell_type": "markdown",
   "metadata": {},
   "source": [
    "2- Demostrar conocimiento detallado de los conjuntos de datos correspondientes"
   ]
  },
  {
   "cell_type": "markdown",
   "metadata": {},
   "source": [
    "3- Demostrar capacidad en la preparación previa de los datos\n",
    "\n"
   ]
  },
  {
   "cell_type": "markdown",
   "metadata": {},
   "source": [
    "4- Algoritmos y modelos\n",
    "\n",
    "En cuanto al algoritmo de aprendizaje para generar el modelo de predicción de enfermedades del corazón, claramente debemos considerar los algoritmos supervisados de clasificación. Dentro de estos, se podría justificar no utilizar knn por un consumo alto de memoria debido a que dataset de entrenamiento es uno grande, pero con los bajos costos de memoria de hoy en día, este no debería ser un impedimento para un conjunto de datos que pese un par de megas. Utilizaría Naive Bayes al principio como estándar o benchmark para comparar con otros modelos más complejos. Luego de obtener las métricas para el modelo de Naive Bayes, utilizaré difentes tipos de ensambles inicialmente Random Forest y alguna variante de Boosted Trees como XGBoost debido a su alta performance para casos de la industria estudiada. Además, como otra justificación para utilizar estos métodos, no existe un requerimiento de que las predicciones tengan que ser extremadamente rápidas, por lo que a utilización de un modelo de Random Forest con miles de árboles no sería un problema. Sería interesante también estudiar la performance de SVMs con distintos kernels para este caso particular.\n",
    "Utilizando los estudios Citados por el paper \"Heart Failure: Diagnosis, Severity Estimation and Prediction of Adverse\n",
    "Events Through Machine Learning Techniques\" (Evanthia E. Tripoliti, Theofilos G. Papadopoulos, Georgia S. Karanasiou, Katerina K. Naka, Dimitrios I. Fotiadis), Diversos grupos de investigadores utilizaron diferentes algoritmos de ML, por lo que elegir uno a priori sin probar una gran variedad de ellos sería un enfoque bastante ingenuo y sesgado en mi opinión. Debido a esto, utilizaré una variedad de algoritmos y elegiré el que mejor se adecúe al dataset elegido."
   ]
  },
  {
   "cell_type": "markdown",
   "metadata": {},
   "source": []
  }
 ],
 "metadata": {
  "language_info": {
   "name": "python"
  },
  "orig_nbformat": 4
 },
 "nbformat": 4,
 "nbformat_minor": 2
}
